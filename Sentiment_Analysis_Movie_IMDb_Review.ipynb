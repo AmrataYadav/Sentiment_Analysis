{
  "nbformat": 4,
  "nbformat_minor": 0,
  "metadata": {
    "colab": {
      "provenance": []
    },
    "kernelspec": {
      "name": "python3",
      "display_name": "Python 3"
    },
    "language_info": {
      "name": "python"
    }
  },
  "cells": [
    {
      "cell_type": "code",
      "execution_count": null,
      "metadata": {
        "colab": {
          "base_uri": "https://localhost:8080/"
        },
        "id": "tHR31kJnqA2Y",
        "outputId": "5223e4d8-11c8-4d3f-96d7-013589eca9ec"
      },
      "outputs": [
        {
          "output_type": "stream",
          "name": "stdout",
          "text": [
            "Mounted at /content/drive\n"
          ]
        }
      ],
      "source": [
        "import pandas as pd\n",
        "import numpy as np\n",
        "from google.colab import drive\n",
        "drive.mount('/content/drive')\n"
      ]
    },
    {
      "cell_type": "code",
      "source": [
        "data = pd.read_csv(\"drive/MyDrive/data_sets/IMDB Dataset.csv\")\n",
        "print(data.head())"
      ],
      "metadata": {
        "colab": {
          "base_uri": "https://localhost:8080/"
        },
        "id": "5SkyPWE5s1-S",
        "outputId": "af5ee398-b82c-411e-be0b-ce90c6c35ae7"
      },
      "execution_count": null,
      "outputs": [
        {
          "output_type": "stream",
          "name": "stdout",
          "text": [
            "                                              review sentiment\n",
            "0  One of the other reviewers has mentioned that ...  positive\n",
            "1  A wonderful little production. <br /><br />The...  positive\n",
            "2  I thought this was a wonderful way to spend ti...  positive\n",
            "3  Basically there's a family where a little boy ...  negative\n",
            "4  Petter Mattei's \"Love in the Time of Money\" is...  positive\n"
          ]
        }
      ]
    },
    {
      "cell_type": "code",
      "source": [
        "#Create Imbanlanced Dataset\n",
        "df_positive = data[data.sentiment =='positive'][:9000]\n",
        "df_negative = data[data.sentiment == 'negative'][:1000]\n",
        "df_imb = pd.concat([df_positive, df_negative])\n",
        "print(df_imb.sentiment.value_counts())"
      ],
      "metadata": {
        "colab": {
          "base_uri": "https://localhost:8080/"
        },
        "id": "K4IGtARZs4TG",
        "outputId": "e85fc1ed-1421-46ec-987c-abc280cd28ec"
      },
      "execution_count": null,
      "outputs": [
        {
          "output_type": "stream",
          "name": "stdout",
          "text": [
            "positive    9000\n",
            "negative    1000\n",
            "Name: sentiment, dtype: int64\n"
          ]
        }
      ]
    },
    {
      "cell_type": "code",
      "source": [
        "#Resample Imbalanced Dataset\n",
        "from imblearn.under_sampling import RandomUnderSampler\n",
        "rus=RandomUnderSampler(random_state=0)\n",
        "df_bal, df_bal['sentiment']= rus.fit_resample(df_imb[['review']], df_imb[['sentiment']])\n",
        "print(df_bal)\n",
        "print(df_bal.sentiment.value_counts())"
      ],
      "metadata": {
        "colab": {
          "base_uri": "https://localhost:8080/"
        },
        "id": "o4890x6tuvg3",
        "outputId": "da63e1b5-94bb-4196-f84f-3f6c209e373f"
      },
      "execution_count": null,
      "outputs": [
        {
          "output_type": "stream",
          "name": "stdout",
          "text": [
            "                                                 review sentiment\n",
            "0     Basically there's a family where a little boy ...  negative\n",
            "1     This show was an amazing, fresh & innovative i...  negative\n",
            "2     Encouraged by the positive comments about this...  negative\n",
            "3     Phil the Alien is one of those quirky films wh...  negative\n",
            "4     I saw this movie when I was about 12 when it c...  negative\n",
            "...                                                 ...       ...\n",
            "1995  Knute Rockne led an extraordinary life and his...  positive\n",
            "1996  At the height of the 'Celebrity Big Brother' r...  positive\n",
            "1997  This is another of Robert Altman's underrated ...  positive\n",
            "1998  This movie won a special award at Cannes for i...  positive\n",
            "1999  You'd be forgiven to think a Finnish director ...  positive\n",
            "\n",
            "[2000 rows x 2 columns]\n",
            "negative    1000\n",
            "positive    1000\n",
            "Name: sentiment, dtype: int64\n"
          ]
        }
      ]
    },
    {
      "cell_type": "code",
      "source": [
        "#Splitting Data into train and test set\n",
        "from sklearn.model_selection import train_test_split\n",
        "train, test = train_test_split(df_bal, test_size =0.33, random_state=42)\n",
        "train_x, train_y=train['review'], train['sentiment']\n",
        "test_x, test_y=test['review'],test['sentiment']"
      ],
      "metadata": {
        "id": "YOevc5ntux9c"
      },
      "execution_count": null,
      "outputs": []
    },
    {
      "cell_type": "code",
      "source": [
        "#Turning text into numerical vectors\n",
        "from sklearn.feature_extraction.text import TfidfVectorizer\n",
        "tfidf = TfidfVectorizer(stop_words = 'english')\n",
        "train_x_vector = tfidf.fit_transform(train_x)\n",
        "#print(train_x_vector)\n",
        "test_x_vector = tfidf.transform(test_x)"
      ],
      "metadata": {
        "id": "zNsp2sWkLucl",
        "colab": {
          "base_uri": "https://localhost:8080/",
          "height": 235
        },
        "outputId": "b38e21c9-5e86-4f6a-e4ef-42fca56b2a03"
      },
      "execution_count": 1,
      "outputs": [
        {
          "output_type": "error",
          "ename": "NameError",
          "evalue": "ignored",
          "traceback": [
            "\u001b[0;31m---------------------------------------------------------------------------\u001b[0m",
            "\u001b[0;31mNameError\u001b[0m                                 Traceback (most recent call last)",
            "\u001b[0;32m<ipython-input-1-0b9aaee25d3c>\u001b[0m in \u001b[0;36m<cell line: 4>\u001b[0;34m()\u001b[0m\n\u001b[1;32m      2\u001b[0m \u001b[0;32mfrom\u001b[0m \u001b[0msklearn\u001b[0m\u001b[0;34m.\u001b[0m\u001b[0mfeature_extraction\u001b[0m\u001b[0;34m.\u001b[0m\u001b[0mtext\u001b[0m \u001b[0;32mimport\u001b[0m \u001b[0mTfidfVectorizer\u001b[0m\u001b[0;34m\u001b[0m\u001b[0;34m\u001b[0m\u001b[0m\n\u001b[1;32m      3\u001b[0m \u001b[0mtfidf\u001b[0m \u001b[0;34m=\u001b[0m \u001b[0mTfidfVectorizer\u001b[0m\u001b[0;34m(\u001b[0m\u001b[0mstop_words\u001b[0m \u001b[0;34m=\u001b[0m \u001b[0;34m'english'\u001b[0m\u001b[0;34m)\u001b[0m\u001b[0;34m\u001b[0m\u001b[0;34m\u001b[0m\u001b[0m\n\u001b[0;32m----> 4\u001b[0;31m \u001b[0mtrain_x_vector\u001b[0m \u001b[0;34m=\u001b[0m \u001b[0mtfidf\u001b[0m\u001b[0;34m.\u001b[0m\u001b[0mfit_transform\u001b[0m\u001b[0;34m(\u001b[0m\u001b[0mtrain_x\u001b[0m\u001b[0;34m)\u001b[0m\u001b[0;34m\u001b[0m\u001b[0;34m\u001b[0m\u001b[0m\n\u001b[0m\u001b[1;32m      5\u001b[0m \u001b[0;31m#print(train_x_vector)\u001b[0m\u001b[0;34m\u001b[0m\u001b[0;34m\u001b[0m\u001b[0m\n\u001b[1;32m      6\u001b[0m \u001b[0mtest_x_vector\u001b[0m \u001b[0;34m=\u001b[0m \u001b[0mtfidf\u001b[0m\u001b[0;34m.\u001b[0m\u001b[0mtransform\u001b[0m\u001b[0;34m(\u001b[0m\u001b[0mtest_x\u001b[0m\u001b[0;34m)\u001b[0m\u001b[0;34m\u001b[0m\u001b[0;34m\u001b[0m\u001b[0m\n",
            "\u001b[0;31mNameError\u001b[0m: name 'train_x' is not defined"
          ]
        }
      ]
    },
    {
      "cell_type": "code",
      "source": [
        "#SVM\n",
        "from sklearn.svm import SVC\n",
        "svc = SVC(kernel = 'linear')\n",
        "svc.fit(train_x_vector, train_y)\n",
        "print(svc.predict(tfidf.transform(['A good movie'])))\n",
        "print(svc.predict(tfidf.transform(['An excellent movie'])))\n",
        "print(svc.predict(tfidf.transform([' I did not like this movie'])))\n",
        "print(svc.predict(tfidf.transform([' I did like this movie'])))\n",
        "#Model Evaluation\n",
        "svc.score(test_x_vector, test_y)"
      ],
      "metadata": {
        "colab": {
          "base_uri": "https://localhost:8080/"
        },
        "id": "tTjSSLLYMix0",
        "outputId": "a46b44de-951d-4a76-ff25-d0f6885acf4f"
      },
      "execution_count": null,
      "outputs": [
        {
          "output_type": "stream",
          "name": "stdout",
          "text": [
            "['positive']\n",
            "['positive']\n",
            "['negative']\n",
            "['negative']\n"
          ]
        },
        {
          "output_type": "execute_result",
          "data": {
            "text/plain": [
              "0.8409090909090909"
            ]
          },
          "metadata": {},
          "execution_count": 11
        }
      ]
    },
    {
      "cell_type": "code",
      "source": [
        "#Decision Tree\n",
        "from sklearn.tree import DecisionTreeClassifier\n",
        "dec_tree = DecisionTreeClassifier()\n",
        "dec_tree.fit(train_x_vector, train_y)\n",
        "print(dec_tree.predict(tfidf.transform(['A good movie'])))\n",
        "print(dec_tree.predict(tfidf.transform(['An excellent movie'])))\n",
        "print(dec_tree.predict(tfidf.transform([' I did not like this movie'])))\n",
        "print(dec_tree.predict(tfidf.transform([' I did like this movie'])))"
      ],
      "metadata": {
        "colab": {
          "base_uri": "https://localhost:8080/",
          "height": 269
        },
        "id": "JjXGMlt6MzgQ",
        "outputId": "969a1b4d-7d58-4c77-8a7f-9a1c92d98563"
      },
      "execution_count": null,
      "outputs": [
        {
          "output_type": "stream",
          "name": "stdout",
          "text": [
            "['positive']\n",
            "['positive']\n",
            "['positive']\n",
            "['positive']\n"
          ]
        },
        {
          "output_type": "error",
          "ename": "NameError",
          "evalue": "ignored",
          "traceback": [
            "\u001b[0;31m---------------------------------------------------------------------------\u001b[0m",
            "\u001b[0;31mNameError\u001b[0m                                 Traceback (most recent call last)",
            "\u001b[0;32m<ipython-input-19-fe7e7d44e8fe>\u001b[0m in \u001b[0;36m<cell line: 9>\u001b[0;34m()\u001b[0m\n\u001b[1;32m      7\u001b[0m \u001b[0mprint\u001b[0m\u001b[0;34m(\u001b[0m\u001b[0mdec_tree\u001b[0m\u001b[0;34m.\u001b[0m\u001b[0mpredict\u001b[0m\u001b[0;34m(\u001b[0m\u001b[0mtfidf\u001b[0m\u001b[0;34m.\u001b[0m\u001b[0mtransform\u001b[0m\u001b[0;34m(\u001b[0m\u001b[0;34m[\u001b[0m\u001b[0;34m' I did not like this movie'\u001b[0m\u001b[0;34m]\u001b[0m\u001b[0;34m)\u001b[0m\u001b[0;34m)\u001b[0m\u001b[0;34m)\u001b[0m\u001b[0;34m\u001b[0m\u001b[0;34m\u001b[0m\u001b[0m\n\u001b[1;32m      8\u001b[0m \u001b[0mprint\u001b[0m\u001b[0;34m(\u001b[0m\u001b[0mdec_tree\u001b[0m\u001b[0;34m.\u001b[0m\u001b[0mpredict\u001b[0m\u001b[0;34m(\u001b[0m\u001b[0mtfidf\u001b[0m\u001b[0;34m.\u001b[0m\u001b[0mtransform\u001b[0m\u001b[0;34m(\u001b[0m\u001b[0;34m[\u001b[0m\u001b[0;34m' I did like this movie'\u001b[0m\u001b[0;34m]\u001b[0m\u001b[0;34m)\u001b[0m\u001b[0;34m)\u001b[0m\u001b[0;34m)\u001b[0m\u001b[0;34m\u001b[0m\u001b[0;34m\u001b[0m\u001b[0m\n\u001b[0;32m----> 9\u001b[0;31m \u001b[0mdec_tree\u001b[0m\u001b[0;34m.\u001b[0m\u001b[0mscore\u001b[0m\u001b[0;34m(\u001b[0m\u001b[0mtext_x_vector\u001b[0m\u001b[0;34m,\u001b[0m \u001b[0mtest_y\u001b[0m\u001b[0;34m)\u001b[0m\u001b[0;34m\u001b[0m\u001b[0;34m\u001b[0m\u001b[0m\n\u001b[0m",
            "\u001b[0;31mNameError\u001b[0m: name 'text_x_vector' is not defined"
          ]
        }
      ]
    },
    {
      "cell_type": "code",
      "source": [
        "#Naive Bayes\n",
        "from sklearn.naive_bayes import GaussianNB\n",
        "gnb = GaussianNB()\n",
        "gnb.fit(train_x_vector.toarray(), train_y)\n",
        "print(gnb.predict((tfidf.transform(['A good movie'])).toarray()))\n",
        "print(gnb.predict((tfidf.transform(['An excellent movie'])).toarray()))\n",
        "print(gnb.predict((tfidf.transform(['I did not like this movie'])).toarray()))\n",
        "print(gnb.predict((tfidf.transform(['I did like this movie'])).toarray()))"
      ],
      "metadata": {
        "colab": {
          "base_uri": "https://localhost:8080/"
        },
        "id": "C3Sbo06AO9CR",
        "outputId": "0a2e7e6e-033b-4a8a-d949-99880581f0b7"
      },
      "execution_count": null,
      "outputs": [
        {
          "output_type": "stream",
          "name": "stdout",
          "text": [
            "['negative']\n",
            "['negative']\n",
            "['negative']\n",
            "['negative']\n"
          ]
        }
      ]
    },
    {
      "cell_type": "code",
      "source": [
        "#Logistic Regression\n",
        "from sklearn.linear_model import LogisticRegression\n",
        "log_reg=LogisticRegression()\n",
        "log_reg.fit(train_x_vector, train_y)\n",
        "print(log_reg.predict(tfidf.transform(['A good movie'])))\n",
        "print(log_reg.predict(tfidf.transform(['An excellent movie'])))\n",
        "print(log_reg.predict(tfidf.transform([' I did not like this movie'])))\n",
        "print(log_reg.predict(tfidf.transform([' I did like this movie'])))"
      ],
      "metadata": {
        "colab": {
          "base_uri": "https://localhost:8080/"
        },
        "id": "5PW4YJLzPKH5",
        "outputId": "2265310d-cd7a-47b7-f40d-7fd67e8ec895"
      },
      "execution_count": null,
      "outputs": [
        {
          "output_type": "stream",
          "name": "stdout",
          "text": [
            "['negative']\n",
            "['positive']\n",
            "['negative']\n",
            "['negative']\n"
          ]
        }
      ]
    },
    {
      "cell_type": "code",
      "source": [
        "#Model Evaluation #Mean Accuracy\n",
        "print('SVM:', svc.score(test_x_vector, test_y))\n",
        "print('Decision Tree:', dec_tree.score(test_x_vector, test_y))\n",
        "print('Naive Bayes:', gnb.score(test_x_vector.toarray(), test_y))\n",
        "print('Logistic Regression:', log_reg.score(test_x_vector, test_y))"
      ],
      "metadata": {
        "colab": {
          "base_uri": "https://localhost:8080/"
        },
        "id": "OsDFgLz8QpLA",
        "outputId": "a19e74df-df8b-4394-e05a-98859a28cbb3"
      },
      "execution_count": null,
      "outputs": [
        {
          "output_type": "stream",
          "name": "stdout",
          "text": [
            "SVM: 0.8409090909090909\n",
            "Decision Tree: 0.6454545454545455\n",
            "Naive Bayes: 0.6348484848484849\n",
            "Logistic Regression: 0.8303030303030303\n"
          ]
        }
      ]
    },
    {
      "cell_type": "code",
      "source": [
        "#F1 Score\n",
        "from sklearn.metrics import f1_score\n",
        "f1_score(test_y, svc.predict(test_x_vector),labels=['positive','negative'],average=None)"
      ],
      "metadata": {
        "colab": {
          "base_uri": "https://localhost:8080/"
        },
        "id": "6Xn6NZdP8bR6",
        "outputId": "951a9e44-18a8-4295-c747-cdbd528c0beb"
      },
      "execution_count": null,
      "outputs": [
        {
          "output_type": "execute_result",
          "data": {
            "text/plain": [
              "array([0.84671533, 0.83464567])"
            ]
          },
          "metadata": {},
          "execution_count": 27
        }
      ]
    },
    {
      "cell_type": "code",
      "source": [
        "#Classification Report\n",
        "from sklearn.metrics import classification_report\n",
        "print(classification_report(test_y, svc.predict(test_x_vector), labels =['positive', 'negative']))"
      ],
      "metadata": {
        "colab": {
          "base_uri": "https://localhost:8080/"
        },
        "id": "fn3VjmSg_C3q",
        "outputId": "6891ad99-d5e3-4d44-f612-e9d8d90e9810"
      },
      "execution_count": null,
      "outputs": [
        {
          "output_type": "stream",
          "name": "stdout",
          "text": [
            "              precision    recall  f1-score   support\n",
            "\n",
            "    positive       0.83      0.87      0.85       335\n",
            "    negative       0.85      0.82      0.83       325\n",
            "\n",
            "    accuracy                           0.84       660\n",
            "   macro avg       0.84      0.84      0.84       660\n",
            "weighted avg       0.84      0.84      0.84       660\n",
            "\n"
          ]
        }
      ]
    },
    {
      "cell_type": "code",
      "source": [
        "#Confusion Matrix\n",
        "from sklearn.metrics import confusion_matrix , ConfusionMatrixDisplay\n",
        "conf_mat = confusion_matrix (test_y, svc.predict(test_x_vector),labels=['positive','negative'])\n",
        "print(conf_mat)\n",
        "\n",
        "cmd=ConfusionMatrixDisplay(conf_mat, display_labels=['positive','negative']).plot()\n"
      ],
      "metadata": {
        "colab": {
          "base_uri": "https://localhost:8080/",
          "height": 484
        },
        "id": "cWPq1SH4FHH6",
        "outputId": "b9dc2b47-8059-4d07-c095-77f15d903234"
      },
      "execution_count": null,
      "outputs": [
        {
          "output_type": "stream",
          "name": "stdout",
          "text": [
            "[[290  45]\n",
            " [ 60 265]]\n"
          ]
        },
        {
          "output_type": "display_data",
          "data": {
            "text/plain": [
              "<Figure size 640x480 with 2 Axes>"
            ],
            "image/png": "[encoded data removed]"
          },
          "metadata": {}
        }
      ]
    },
    {
      "cell_type": "code",
      "source": [
        "\n"
      ],
      "metadata": {
        "id": "8stBI9h2GCrX"
      },
      "execution_count": null,
      "outputs": []
    },
    {
      "cell_type": "code",
      "source": [],
      "metadata": {
        "id": "iLm0H4GGf06f"
      },
      "execution_count": null,
      "outputs": []
    }
  ]
}